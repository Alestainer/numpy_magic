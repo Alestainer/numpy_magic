{
 "cells": [
  {
   "cell_type": "markdown",
   "metadata": {},
   "source": [
    "# Numpy to speed up your computations\n",
    "### Nedeed imports"
   ]
  },
  {
   "cell_type": "code",
   "execution_count": null,
   "metadata": {
    "collapsed": true
   },
   "outputs": [],
   "source": [
    "import numpy as np\n",
    "import time"
   ]
  },
  {
   "cell_type": "markdown",
   "metadata": {},
   "source": [
    "### Time measuring decorator"
   ]
  },
  {
   "cell_type": "code",
   "execution_count": null,
   "metadata": {
    "collapsed": true
   },
   "outputs": [],
   "source": [
    "def timeit(method):\n",
    "    \n",
    "    def timed(*args, **kwargs):\n",
    "        \"\"\"Returns the function with time spent on its calculation\"\"\"\n",
    "        time_0 = time.time()\n",
    "        result = method(*args, **kwargs)\n",
    "        time_1 = time.time()\n",
    "        spent = time_1 = time_0\n",
    "        \n",
    "        print (\"Time spent on \" + str(method.__name__) + \" is \" + str(spent) + \" s\")\n",
    "        return result\n",
    "    \n",
    "    return timed"
   ]
  },
  {
   "cell_type": "markdown",
   "metadata": {},
   "source": [
    "## Let's create some massive computations\n",
    "### Initialize array"
   ]
  },
  {
   "cell_type": "code",
   "execution_count": null,
   "metadata": {
    "collapsed": true
   },
   "outputs": [],
   "source": [
    "a = np.random.randn(10000000)\n",
    "b = np.random.randn(10000000)"
   ]
  },
  {
   "cell_type": "markdown",
   "metadata": {},
   "source": [
    "### Two implementations"
   ]
  },
  {
   "cell_type": "code",
   "execution_count": null,
   "metadata": {
    "collapsed": true
   },
   "outputs": [],
   "source": [
    "@timeit\n",
    "def slow_calc(a, b):\n",
    "    \"\"\"Version without NumPy\"\"\"\n",
    "    \n",
    "    c = []\n",
    "    \n",
    "    for i, _ in enumerate(a):\n",
    "        c.append(a[i] * b[i])\n",
    "        \n",
    "    return c\n",
    "\n",
    "@timeit\n",
    "def fast_calc(a, b):\n",
    "    \"\"\"Version with NumPy\"\"\"\n",
    "    \n",
    "    return a * b"
   ]
  },
  {
   "cell_type": "markdown",
   "metadata": {},
   "source": [
    "# Let's run it!"
   ]
  },
  {
   "cell_type": "code",
   "execution_count": null,
   "metadata": {},
   "outputs": [],
   "source": [
    "slow_calc(a,b)\n",
    "\n",
    "print (\"Pretty slow, huh?\")"
   ]
  },
  {
   "cell_type": "code",
   "execution_count": null,
   "metadata": {},
   "outputs": [],
   "source": [
    "fast_calc(a,b)\n",
    "\n",
    "print (\"Wow!\")"
   ]
  }
 ],
 "metadata": {
  "kernelspec": {
   "display_name": "Python 3",
   "language": "python",
   "name": "python3"
  },
  "language_info": {
   "codemirror_mode": {
    "name": "ipython",
    "version": 3
   },
   "file_extension": ".py",
   "mimetype": "text/x-python",
   "name": "python",
   "nbconvert_exporter": "python",
   "pygments_lexer": "ipython3",
   "version": "3.6.1"
  }
 },
 "nbformat": 4,
 "nbformat_minor": 2
}
